{
 "cells": [
  {
   "cell_type": "markdown",
   "metadata": {},
   "source": [
    "# Importing libraries and loading credentials"
   ]
  },
  {
   "cell_type": "code",
   "execution_count": 5,
   "metadata": {},
   "outputs": [],
   "source": [
    "import json\n",
    "import pandas as pd\n",
    "import matplotlib.pyplot as plt\n",
    "import seaborn as sns\n",
    "from sqlalchemy import create_engine\n",
    "\n",
    "with open(\"credentials.json\", \"r\") as file:\n",
    "    creds = json.load(file)"
   ]
  },
  {
   "cell_type": "markdown",
   "metadata": {},
   "source": [
    "# Creating Database Connection"
   ]
  },
  {
   "cell_type": "code",
   "execution_count": 8,
   "metadata": {},
   "outputs": [
    {
     "ename": "ModuleNotFoundError",
     "evalue": "No module named 'psycopg2'",
     "output_type": "error",
     "traceback": [
      "\u001b[31m---------------------------------------------------------------------------\u001b[39m",
      "\u001b[31mModuleNotFoundError\u001b[39m                       Traceback (most recent call last)",
      "\u001b[36mCell\u001b[39m\u001b[36m \u001b[39m\u001b[32mIn[8]\u001b[39m\u001b[32m, line 2\u001b[39m\n\u001b[32m      1\u001b[39m DATABASE_URL = \u001b[33mf\u001b[39m\u001b[33m\"\u001b[39m\u001b[33mpostgresql://\u001b[39m\u001b[38;5;132;01m{\u001b[39;00mcreds[\u001b[33m'\u001b[39m\u001b[33muser\u001b[39m\u001b[33m'\u001b[39m]\u001b[38;5;132;01m}\u001b[39;00m\u001b[33m:\u001b[39m\u001b[38;5;132;01m{\u001b[39;00mcreds[\u001b[33m'\u001b[39m\u001b[33mpassword\u001b[39m\u001b[33m'\u001b[39m]\u001b[38;5;132;01m}\u001b[39;00m\u001b[33m@\u001b[39m\u001b[38;5;132;01m{\u001b[39;00mcreds[\u001b[33m'\u001b[39m\u001b[33mhost\u001b[39m\u001b[33m'\u001b[39m]\u001b[38;5;132;01m}\u001b[39;00m\u001b[33m:\u001b[39m\u001b[38;5;132;01m{\u001b[39;00mcreds[\u001b[33m'\u001b[39m\u001b[33mport\u001b[39m\u001b[33m'\u001b[39m]\u001b[38;5;132;01m}\u001b[39;00m\u001b[33m/\u001b[39m\u001b[38;5;132;01m{\u001b[39;00mcreds[\u001b[33m'\u001b[39m\u001b[33mdatabase\u001b[39m\u001b[33m'\u001b[39m]\u001b[38;5;132;01m}\u001b[39;00m\u001b[33m\"\u001b[39m\n\u001b[32m----> \u001b[39m\u001b[32m2\u001b[39m engine = \u001b[43mcreate_engine\u001b[49m\u001b[43m(\u001b[49m\u001b[43mDATABASE_URL\u001b[49m\u001b[43m)\u001b[49m\n",
      "\u001b[36mFile \u001b[39m\u001b[32m<string>:2\u001b[39m, in \u001b[36mcreate_engine\u001b[39m\u001b[34m(url, **kwargs)\u001b[39m\n",
      "\u001b[36mFile \u001b[39m\u001b[32mc:\\Users\\Danie\\OneDrive\\Escritorio\\ETL_GlobalEconomy\\ETLGE-env\\Lib\\site-packages\\sqlalchemy\\util\\deprecations.py:281\u001b[39m, in \u001b[36mdeprecated_params.<locals>.decorate.<locals>.warned\u001b[39m\u001b[34m(fn, *args, **kwargs)\u001b[39m\n\u001b[32m    274\u001b[39m     \u001b[38;5;28;01mif\u001b[39;00m m \u001b[38;5;129;01min\u001b[39;00m kwargs:\n\u001b[32m    275\u001b[39m         _warn_with_version(\n\u001b[32m    276\u001b[39m             messages[m],\n\u001b[32m    277\u001b[39m             versions[m],\n\u001b[32m    278\u001b[39m             version_warnings[m],\n\u001b[32m    279\u001b[39m             stacklevel=\u001b[32m3\u001b[39m,\n\u001b[32m    280\u001b[39m         )\n\u001b[32m--> \u001b[39m\u001b[32m281\u001b[39m \u001b[38;5;28;01mreturn\u001b[39;00m \u001b[43mfn\u001b[49m\u001b[43m(\u001b[49m\u001b[43m*\u001b[49m\u001b[43margs\u001b[49m\u001b[43m,\u001b[49m\u001b[43m \u001b[49m\u001b[43m*\u001b[49m\u001b[43m*\u001b[49m\u001b[43mkwargs\u001b[49m\u001b[43m)\u001b[49m\n",
      "\u001b[36mFile \u001b[39m\u001b[32mc:\\Users\\Danie\\OneDrive\\Escritorio\\ETL_GlobalEconomy\\ETLGE-env\\Lib\\site-packages\\sqlalchemy\\engine\\create.py:602\u001b[39m, in \u001b[36mcreate_engine\u001b[39m\u001b[34m(url, **kwargs)\u001b[39m\n\u001b[32m    600\u001b[39m         \u001b[38;5;28;01mif\u001b[39;00m k \u001b[38;5;129;01min\u001b[39;00m kwargs:\n\u001b[32m    601\u001b[39m             dbapi_args[k] = pop_kwarg(k)\n\u001b[32m--> \u001b[39m\u001b[32m602\u001b[39m     dbapi = \u001b[43mdbapi_meth\u001b[49m\u001b[43m(\u001b[49m\u001b[43m*\u001b[49m\u001b[43m*\u001b[49m\u001b[43mdbapi_args\u001b[49m\u001b[43m)\u001b[49m\n\u001b[32m    604\u001b[39m dialect_args[\u001b[33m\"\u001b[39m\u001b[33mdbapi\u001b[39m\u001b[33m\"\u001b[39m] = dbapi\n\u001b[32m    606\u001b[39m dialect_args.setdefault(\u001b[33m\"\u001b[39m\u001b[33mcompiler_linting\u001b[39m\u001b[33m\"\u001b[39m, compiler.NO_LINTING)\n",
      "\u001b[36mFile \u001b[39m\u001b[32mc:\\Users\\Danie\\OneDrive\\Escritorio\\ETL_GlobalEconomy\\ETLGE-env\\Lib\\site-packages\\sqlalchemy\\dialects\\postgresql\\psycopg2.py:696\u001b[39m, in \u001b[36mPGDialect_psycopg2.import_dbapi\u001b[39m\u001b[34m(cls)\u001b[39m\n\u001b[32m    694\u001b[39m \u001b[38;5;129m@classmethod\u001b[39m\n\u001b[32m    695\u001b[39m \u001b[38;5;28;01mdef\u001b[39;00m\u001b[38;5;250m \u001b[39m\u001b[34mimport_dbapi\u001b[39m(\u001b[38;5;28mcls\u001b[39m):\n\u001b[32m--> \u001b[39m\u001b[32m696\u001b[39m     \u001b[38;5;28;01mimport\u001b[39;00m\u001b[38;5;250m \u001b[39m\u001b[34;01mpsycopg2\u001b[39;00m\n\u001b[32m    698\u001b[39m     \u001b[38;5;28;01mreturn\u001b[39;00m psycopg2\n",
      "\u001b[31mModuleNotFoundError\u001b[39m: No module named 'psycopg2'"
     ]
    }
   ],
   "source": [
    "DATABASE_URL = f\"postgresql://{creds['user']}:{creds['password']}@{creds['host']}:{creds['port']}/{creds['database']}\"\n",
    "engine = create_engine(DATABASE_URL)"
   ]
  },
  {
   "cell_type": "markdown",
   "metadata": {},
   "source": [
    "# Loading Data from a CSV File"
   ]
  },
  {
   "cell_type": "code",
   "execution_count": null,
   "metadata": {},
   "outputs": [],
   "source": [
    "file_path = r\"C:\\Users\\Danie\\OneDrive\\Escritorio\\Global Economy Indicators.csv\"\n",
    "df = pd.read_csv(file_path, delimiter=\";\")\n",
    "df.columns = df.columns.str.strip().str.replace(\" \", \"_\")"
   ]
  },
  {
   "cell_type": "markdown",
   "metadata": {},
   "source": [
    "# Uploading Data to PostgreSQL"
   ]
  },
  {
   "cell_type": "code",
   "execution_count": null,
   "metadata": {},
   "outputs": [],
   "source": [
    "df.to_sql(\"economy_raw\", engine, if_exists=\"replace\", index=False, method=\"multi\", chunksize=1000)\n",
    "print(\"Data loaded into PostgreSQL\")"
   ]
  },
  {
   "cell_type": "markdown",
   "metadata": {},
   "source": [
    "# Retrieving Transformed Data from the Database"
   ]
  },
  {
   "cell_type": "code",
   "execution_count": null,
   "metadata": {},
   "outputs": [],
   "source": [
    "df_transformed = pd.read_sql(\"SELECT * FROM economy_indicators_transformed\", engine)"
   ]
  },
  {
   "cell_type": "markdown",
   "metadata": {},
   "source": [
    "# Data Visualizations"
   ]
  },
  {
   "cell_type": "code",
   "execution_count": null,
   "metadata": {},
   "outputs": [],
   "source": [
    "plt.figure(figsize=(12,6))\n",
    "sns.lineplot(data=df_transformed, x=\"year\", y=\"gdp\", hue=\"country_name\", marker=\"o\")\n",
    "plt.title(\"GDP Evolution by Country\")\n",
    "plt.xlabel(\"Year\")\n",
    "plt.ylabel(\"GDP\")\n",
    "plt.legend(title=\"Country\", bbox_to_anchor=(1, 1))\n",
    "plt.grid()\n",
    "plt.show()"
   ]
  },
  {
   "cell_type": "markdown",
   "metadata": {},
   "source": [
    "# Exchange Rate Comparison"
   ]
  },
  {
   "cell_type": "code",
   "execution_count": null,
   "metadata": {},
   "outputs": [],
   "source": [
    "plt.figure(figsize=(12,6))\n",
    "df_melted = df_transformed.melt(id_vars=[\"country_name\", \"year\"],\n",
    "                                value_vars=[\"ama_exchange_rate\", \"imf_exchange_rate\"],\n",
    "                                var_name=\"Exchange Rate Type\", value_name=\"Value\")\n",
    "sns.lineplot(data=df_melted, x=\"year\", y=\"Value\", hue=\"Exchange Rate Type\", style=\"country_name\", markers=True)\n",
    "plt.title(\"Exchange Rate Comparison\")\n",
    "plt.xlabel(\"Year\")\n",
    "plt.ylabel(\"Exchange Rate Value\")\n",
    "plt.legend(title=\"Exchange Rate Type\", bbox_to_anchor=(1, 1))\n",
    "plt.grid()\n",
    "plt.show()"
   ]
  },
  {
   "cell_type": "markdown",
   "metadata": {},
   "source": [
    "# Relationship between Population and Per Capita GNI"
   ]
  },
  {
   "cell_type": "code",
   "execution_count": null,
   "metadata": {},
   "outputs": [],
   "source": [
    "plt.figure(figsize=(10,6))\n",
    "sns.scatterplot(data=df_transformed, x=\"population\", y=\"per_capita_gni\", hue=\"country_name\", size=\"gni\", sizes=(20, 200))\n",
    "plt.xscale(\"log\")\n",
    "plt.title(\"Relationship between Population and Per capita GNI\")\n",
    "plt.xlabel(\"Population\")\n",
    "plt.ylabel(\"per capita GNI\")\n",
    "plt.show()"
   ]
  },
  {
   "cell_type": "markdown",
   "metadata": {},
   "source": [
    "# Distribution of Household Expenditure"
   ]
  },
  {
   "cell_type": "code",
   "execution_count": null,
   "metadata": {},
   "outputs": [],
   "source": [
    "plt.figure(figsize=(10, 6))\n",
    "sns.histplot(df_transformed[\"household_expenditure\"], bins=30, kde=True, color=\"blue\")\n",
    "plt.title(\"Distribution of Household Expenditure\")\n",
    "plt.xlabel(\"Household Expenditure\")\n",
    "plt.ylabel(\"Frequency\")\n",
    "plt.grid()\n",
    "plt.show()"
   ]
  },
  {
   "cell_type": "markdown",
   "metadata": {},
   "source": [
    "![](Charts Global Economy Indicators.png)"
   ]
  }
 ],
 "metadata": {
  "kernelspec": {
   "display_name": "ETLGE-env",
   "language": "python",
   "name": "python3"
  },
  "language_info": {
   "codemirror_mode": {
    "name": "ipython",
    "version": 3
   },
   "file_extension": ".py",
   "mimetype": "text/x-python",
   "name": "python",
   "nbconvert_exporter": "python",
   "pygments_lexer": "ipython3",
   "version": "3.12.9"
  }
 },
 "nbformat": 4,
 "nbformat_minor": 2
}
